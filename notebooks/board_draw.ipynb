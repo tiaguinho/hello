{
 "cells": [
  {
   "cell_type": "markdown",
   "metadata": {},
   "source": [
    "# Shortest Path Algorithm (Part 1)"
   ]
  },
  {
   "cell_type": "markdown",
   "metadata": {},
   "source": [
    "This is the first part of a study on how shortest path algorithms work.\n",
    "This study is divided into three parts.\n",
    "\n",
    "* 1) Draw an empty board\n",
    "* 2) Add obstacles randomly\n",
    "* 3) Implement the shortest path algorithm\n",
    "\n",
    "The division intends to make it easier to understand and visualize the algorithm."
   ]
  },
  {
   "cell_type": "markdown",
   "metadata": {},
   "source": [
    "## 1 - Dependencies"
   ]
  },
  {
   "cell_type": "markdown",
   "metadata": {},
   "source": [
    "Before we start writing code, we need to install the python library Pillow."
   ]
  },
  {
   "cell_type": "markdown",
   "metadata": {},
   "source": [
    "```bash\n",
    "pip install Pillow\n",
    "```"
   ]
  },
  {
   "cell_type": "markdown",
   "metadata": {},
   "source": [
    "## 2 - Imports"
   ]
  },
  {
   "cell_type": "markdown",
   "metadata": {},
   "source": [
    "To draw the board, we need to import `Image` and `ImageDraw` classes from the Pillow library."
   ]
  },
  {
   "cell_type": "code",
   "execution_count": 3,
   "metadata": {},
   "outputs": [],
   "source": [
    "from PIL import Image, ImageDraw"
   ]
  },
  {
   "cell_type": "markdown",
   "metadata": {},
   "source": [
    "***PIL is short for Python Image Library***"
   ]
  },
  {
   "cell_type": "markdown",
   "metadata": {},
   "source": [
    "## 3 - Classes"
   ]
  },
  {
   "cell_type": "markdown",
   "metadata": {},
   "source": [
    "Now that we have our dependencies installed, let's start defining the *Node* class.\n",
    "\n",
    "The *Node* class will hold each position of the board."
   ]
  },
  {
   "cell_type": "code",
   "execution_count": 62,
   "metadata": {},
   "outputs": [],
   "source": [
    "class Node:\n",
    "    \"\"\"\n",
    "    Each node on the board\n",
    "    \"\"\"\n",
    "    # size of each node\n",
    "    SIZE=30\n",
    "    \n",
    "    def __init__(self, x, y, fill='#FFFFFF', outline='#000000'):\n",
    "        # define node position\n",
    "        self.x = x\n",
    "        self.y = y\n",
    "\n",
    "        # define node colors\n",
    "        self.fill = fill\n",
    "        self.outline = outline\n",
    "        \n",
    "    def draw(self, base):\n",
    "        # define the start of the image\n",
    "        left = self.x * self.SIZE\n",
    "        top = self.y * self.SIZE\n",
    "        \n",
    "        # define the end of the image\n",
    "        right = left + self.SIZE\n",
    "        bottom = top + self.SIZE\n",
    "        \n",
    "        # shape\n",
    "        shape = [(left, top), (right, bottom)]\n",
    "\n",
    "        node = ImageDraw.Draw(base)   \n",
    "        node.rectangle(shape, fill=self.fill, outline=self.outline) "
   ]
  },
  {
   "cell_type": "markdown",
   "metadata": {},
   "source": [
    "Inside the *draw* method, we use the **ImageDraw** class to create the image of the node.\n",
    "\n",
    "The most important part is the first parameter of the ***rectangle*** method. This parameter is responsible for the positions of the pixels that the class will use to draw our node.\n",
    "\n",
    "The *shape* is an array with two positions. In the first position, we define where is the top/left edge of the rectangle and in the second, the bottom/right edge.\n",
    "\n",
    "With these definitions, the method will draw:\n",
    "\n",
    "* One vertical line from the left/top edge to the **relative** left/bottom edge;\n",
    "* One vertical line from the right/bottom edge to the **relative** right/top edge;\n",
    "* One horizontal line from the left/top edge to the **relative** right/top edge;\n",
    "* One horizontal line from the right/bottom edge to the **relative** left/bottom edge.\n",
    "\n",
    "In the end we have a rectangle."
   ]
  },
  {
   "cell_type": "markdown",
   "metadata": {},
   "source": [
    "Now we need to create the *Board* class, to hold the matrix of *Nodes* and draw the final image."
   ]
  },
  {
   "cell_type": "code",
   "execution_count": 72,
   "metadata": {},
   "outputs": [],
   "source": [
    "class Board:\n",
    "    \"\"\"\n",
    "    Matrix of Nodes\n",
    "    \"\"\"\n",
    "    \n",
    "    def __init__(self, rows, cols):\n",
    "        # size of the board\n",
    "        self.rows = rows\n",
    "        self.cols = cols\n",
    "        \n",
    "    def create(self):\n",
    "        # start empty board\n",
    "        self.board = [None] * self.rows\n",
    "\n",
    "        for row in range(0, self.rows):\n",
    "            self.board[row] = [None] * self.cols\n",
    "            for col in range(0, self.cols):\n",
    "                self.board[row][col] = Node(col, row)\n",
    "                \n",
    "    def draw(self):\n",
    "        w = self.cols * 30\n",
    "        h = self.rows * 30\n",
    "        \n",
    "        # define base image\n",
    "        img = Image.new(\"RGB\", (w, h), (173, 173, 173))\n",
    "\n",
    "        for row in range(0, self.rows):\n",
    "            for col in range(0, self.cols):\n",
    "                self.board[row][col].draw(img)\n",
    "        \n",
    "        # draw final image\n",
    "        img.show()"
   ]
  },
  {
   "cell_type": "markdown",
   "metadata": {},
   "source": [
    "## 4 - Drawing"
   ]
  },
  {
   "cell_type": "markdown",
   "metadata": {},
   "source": [
    "With the classes defined, now everything we need to do is create an instance of the *Board* class with the number of rows and cols the board has."
   ]
  },
  {
   "cell_type": "code",
   "execution_count": 73,
   "metadata": {},
   "outputs": [],
   "source": [
    "board = Board(9, 9)"
   ]
  },
  {
   "cell_type": "markdown",
   "metadata": {},
   "source": [
    "Then, we just need to call the methods *create* and *draw*."
   ]
  },
  {
   "cell_type": "code",
   "execution_count": 75,
   "metadata": {},
   "outputs": [],
   "source": [
    "board.create()\n",
    "board.draw()"
   ]
  },
  {
   "cell_type": "code",
   "execution_count": null,
   "metadata": {},
   "outputs": [],
   "source": []
  }
 ],
 "metadata": {
  "kernelspec": {
   "display_name": "Python 3",
   "language": "python",
   "name": "python3"
  },
  "language_info": {
   "codemirror_mode": {
    "name": "ipython",
    "version": 3
   },
   "file_extension": ".py",
   "mimetype": "text/x-python",
   "name": "python",
   "nbconvert_exporter": "python",
   "pygments_lexer": "ipython3",
   "version": "3.7.3"
  }
 },
 "nbformat": 4,
 "nbformat_minor": 4
}
