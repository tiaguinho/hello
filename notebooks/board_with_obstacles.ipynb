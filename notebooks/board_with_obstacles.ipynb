{
 "cells": [
  {
   "cell_type": "markdown",
   "metadata": {},
   "source": [
    "# Shortest Path Algorithm (Part 2)"
   ]
  },
  {
   "cell_type": "markdown",
   "metadata": {},
   "source": [
    "In the [first part](https://ttemporin.dev/2020/board_draw/) of this study, we have implemented two classes to draw an empty board.\n",
    "Now that we have theses classes, we'll change them a little bit just to randomly make a few nodes look like blocked.\n",
    "Just to remember, this study is divided into three parts.\n",
    "\n",
    "* 1) [Draw an empty board](https://ttemporin.dev/2020/board_draw/)\n",
    "* 2) Add obstacles randomly\n",
    "* 3) Implement the short path algorithm\n",
    "\n",
    "The division intends to make it easier to understand and visualize the algorithm."
   ]
  },
  {
   "cell_type": "markdown",
   "metadata": {},
   "source": [
    "## 1 - Imports"
   ]
  },
  {
   "cell_type": "markdown",
   "metadata": {},
   "source": [
    "Since we'll randomly choose which node to block, we have to import a native library called `random`."
   ]
  },
  {
   "cell_type": "code",
   "execution_count": 1,
   "metadata": {},
   "outputs": [],
   "source": [
    "from PIL import Image, ImageDraw\n",
    "import random"
   ]
  },
  {
   "cell_type": "markdown",
   "metadata": {},
   "source": [
    "## 2 - Classes"
   ]
  },
  {
   "cell_type": "markdown",
   "metadata": {},
   "source": [
    "To mark the node as blocked, we gonna add a new parameter on the **\\_\\_init\\_\\_** method of the *Node* class.\n",
    "\n",
    "Let's call this parameter ***blocked*** and set the default value as *False*."
   ]
  },
  {
   "cell_type": "code",
   "execution_count": 2,
   "metadata": {},
   "outputs": [],
   "source": [
    "class Node:\n",
    "    \"\"\"\n",
    "    Each node on the board\n",
    "    \"\"\"\n",
    "    # size of each node\n",
    "    SIZE=30\n",
    "    \n",
    "    def __init__(self, x, y, blocked=False, fill='#FFFFFF', outline='#000000'):\n",
    "        # define node position\n",
    "        self.x = x\n",
    "        self.y = y\n",
    "        \n",
    "        # define status\n",
    "        self.blocked = blocked\n",
    "\n",
    "        # define node colors\n",
    "        self.fill = fill\n",
    "        self.outline = outline\n",
    "        \n",
    "    def draw(self, base):\n",
    "        # define the start of the image\n",
    "        left = self.x * self.SIZE\n",
    "        top = self.y * self.SIZE\n",
    "        \n",
    "        # define the end of the image\n",
    "        right = left + self.SIZE\n",
    "        bottom = top + self.SIZE\n",
    "        \n",
    "        # shape\n",
    "        shape = [(left, top), (right, bottom)]\n",
    "\n",
    "        node = ImageDraw.Draw(base)   \n",
    "        if self.blocked:\n",
    "            # create rectangle with grey background\n",
    "            node.rectangle(shape, fill=(173, 173, 173), outline=self.outline)\n",
    "            \n",
    "            # define the angles of the lines\n",
    "            ltr = (left, top, right, bottom)\n",
    "            rtl = (right, top, left, bottom)\n",
    "            \n",
    "            # add the lines on top of the rectangle\n",
    "            node.line(ltr, fill=(100, 100, 100), width=1)\n",
    "            node.line(rtl, fill=(100, 100, 100), width=1)\n",
    "        else:\n",
    "            node.rectangle(shape, fill=self.fill, outline=self.outline)"
   ]
  },
  {
   "cell_type": "markdown",
   "metadata": {},
   "source": [
    "Another change we need is inside *draw* method. Let's put an if to check if the node as free or blocked.\n",
    "\n",
    "Inside the *if*, we create a rectangle with a grey background, and then, using *left*, *top*, *right*, and *bottom* variables define two lines that will be drawn on top of the rectangle as an **X**.\n",
    "\n",
    "* The **ltr** variable store a tuple with the coordinates from the left/top edge to the right/bottom edge of the node;\n",
    "* And the **rtl** variable store a tuple with the coordinates from the right/top edge to the left/bottom edge of the node.\n",
    "\n",
    "After the definition, we pass the variables as a first parameter of the method *line* followed by the grey color *(100, 100, 100)* and the thickness of the line (which is 1px).\n"
   ]
  },
  {
   "cell_type": "markdown",
   "metadata": {},
   "source": [
    "In the *Board* class, let's add a new parameter to define the probability of the node being blocked."
   ]
  },
  {
   "cell_type": "code",
   "execution_count": 3,
   "metadata": {},
   "outputs": [],
   "source": [
    "class Board:\n",
    "    \"\"\"\n",
    "    Matrix of Nodes\n",
    "    \"\"\"\n",
    "    \n",
    "    def __init__(self, rows, cols, max_to_block=15):\n",
    "        # size of the board\n",
    "        self.rows = rows\n",
    "        self.cols = cols\n",
    "        self.max_to_block = max_to_block\n",
    "        \n",
    "    def create(self):\n",
    "        # start empty board\n",
    "        self.board = [None] * self.rows\n",
    "\n",
    "        for row in range(0, self.rows):\n",
    "            self.board[row] = [None] * self.cols\n",
    "            for col in range(0, self.cols):\n",
    "                blocked = random.randint(1, 100)\n",
    "                self.board[row][col] = Node(col, row, blocked < self.max_to_block)\n",
    "                \n",
    "    def draw(self):\n",
    "        w = self.cols * 30\n",
    "        h = self.rows * 30\n",
    "        \n",
    "        # define base image\n",
    "        img = Image.new(\"RGB\", (w, h), (173, 173, 173))\n",
    "\n",
    "        for row in range(0, self.rows):\n",
    "            for col in range(0, self.cols):\n",
    "                self.board[row][col].draw(img)\n",
    "        \n",
    "        # draw final image\n",
    "        img.show()"
   ]
  },
  {
   "cell_type": "markdown",
   "metadata": {},
   "source": [
    "Inside *create* method, let's call *random.randint(1, 100)* to get a random number from 1 to 100 and store the result on the variable *blocked*.\n",
    "\n",
    "Now, we can compare the value of *blocked* and *max_to_block* value to randomly create a node as free or blocked."
   ]
  },
  {
   "cell_type": "markdown",
   "metadata": {},
   "source": [
    "## 3 - Drawing"
   ]
  },
  {
   "cell_type": "markdown",
   "metadata": {},
   "source": [
    "After these changes, we just need to create an instance of the *Board* class with the number of rows and cols the board has."
   ]
  },
  {
   "cell_type": "code",
   "execution_count": 4,
   "metadata": {},
   "outputs": [],
   "source": [
    "board = Board(18, 18)"
   ]
  },
  {
   "cell_type": "markdown",
   "metadata": {},
   "source": [
    "Then, call the methods *create* and *draw* to see the board."
   ]
  },
  {
   "cell_type": "code",
   "execution_count": 6,
   "metadata": {},
   "outputs": [],
   "source": [
    "board.create()\n",
    "board.draw()"
   ]
  },
  {
   "cell_type": "code",
   "execution_count": null,
   "metadata": {},
   "outputs": [],
   "source": []
  }
 ],
 "metadata": {
  "kernelspec": {
   "display_name": "Python 3",
   "language": "python",
   "name": "python3"
  },
  "language_info": {
   "codemirror_mode": {
    "name": "ipython",
    "version": 3
   },
   "file_extension": ".py",
   "mimetype": "text/x-python",
   "name": "python",
   "nbconvert_exporter": "python",
   "pygments_lexer": "ipython3",
   "version": "3.7.3"
  }
 },
 "nbformat": 4,
 "nbformat_minor": 4
}
